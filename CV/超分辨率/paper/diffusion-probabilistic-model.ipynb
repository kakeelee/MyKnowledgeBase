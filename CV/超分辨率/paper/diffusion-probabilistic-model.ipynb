{
 "cells": [
  {
   "cell_type": "markdown",
   "metadata": {},
   "source": [
    "# Diffusion Probabilitistic Model"
   ]
  },
  {
   "cell_type": "markdown",
   "metadata": {},
   "source": [
    "# 条件概率公式与高斯分布的KL散度\n",
    "## 1. 条件概率的一般形式\n",
    "$$P(A,B,C) = P(C|A,B)P(A,B) = P(C|A,B)P(B|A)P(A)$$\n",
    "$$P(B,C|A) = P(B|A)P(C|A,B)$$"
   ]
  },
  {
   "cell_type": "markdown",
   "metadata": {},
   "source": [
    "## 2.基于马尔可夫假设的条件概率\n",
    "> [马尔可夫](#mekf)假设是指在一个马尔可夫过程中，未来的状态只依赖于当前的状态，而与过去的状态无关。\n",
    "\n",
    "如果满足马尔可夫链关系A->B->C,那么有:\n",
    "$$P(A,B,C) = P(C|B,A)P(B,A) = P(C|B)P(B|A)P(A)$$\n",
    "$$P(B,C|A) = P(B|A)P(C|B,A) = P(B|A)P(C|B)$$"
   ]
  },
  {
   "cell_type": "markdown",
   "metadata": {},
   "source": [
    "## 3.高斯分布的KL散度公式\n",
    "对于一个单一变量的高斯分布p和q而言,他们的KL散度为\n",
    "$$KL(p,q) = log(\\frac{\\sigma^2_q}{\\sigma^2_p})+\\frac{\\sigma^2_p+(\\mu_p - \\mu_q)^2}{2\\sigma^2_q} - \\frac{1}{2}$$"
   ]
  },
  {
   "cell_type": "markdown",
   "metadata": {},
   "source": [
    "## 4. 参数重整化\n"
   ]
  },
  {
   "cell_type": "markdown",
   "metadata": {},
   "source": [
    "若希望从高斯分布$N(\\mu,\\sigma^2)$中采样,可以先从标准分布$N(0,1)$采样出$z$,再得到$\\sigma * z + \\mu$,这样做的好处是将随机性迁移到$z$这个常量上,而$\\sigma$和$\\mu$则当做仿射变换网络的一部分."
   ]
  },
  {
   "cell_type": "markdown",
   "metadata": {},
   "source": [
    "# 二 VAE与多层VAE回顾\n",
    "## 1.单层VAE的原理公式与置信下界\n",
    "假设$x$是有一个隐变量$z$生成,则可以通过先验知识$q_{\\Phi}(z|x)$求得$z$,然后根据求得的$z$,来求$p_{\\theta}(x|z)$得到$x$  \n",
    "$$\\begin{align}\n",
    "p(x) = \\int_zp_\\theta(x|z)p(z) = \\int_zq_{\\Phi}(z|x)\\frac{p_{\\Theta}(x|z)p(z)}{q_{\\Phi}(z|x)}\n",
    "\\end{align}$$\n",
    "\n",
    "$$\\begin{align}\n",
    "logp(x) &= log\\mathbb{E}_{z~q_{\\Phi}(z|x)}[\\frac{p_{\\Theta}(x|z)p(z)}{q_{\\Phi}(z|x)}] \\\\\n",
    "&>= \\mathbb{E}_{z~q_{\\Phi}(z|x)}[log\\frac{p_{\\Theta}(x|z)p(z)}{q_{\\Phi}(z|x)}] \\\\\n",
    "\\end{align}$$\n"
   ]
  },
  {
   "cell_type": "markdown",
   "metadata": {},
   "source": [
    "# appendix\n",
    "\n",
    "## 马尔可夫假设 <a id = \"mekf\"></a>\n",
    "马尔可夫假设是指在一个马尔可夫过程中，未来的状态只依赖于当前的状态，而与过去的状态无关。换句话说，当前状态是过去状态的一个完整的总结，未来状态的发展不受过去状态的影响。\n",
    "\n",
    "具体来说，马尔可夫假设包含两个关键条件：\n",
    "\n",
    "1. 状态无后效性（无记忆性）：当前状态只与前一个状态有关，与之前的状态无关。换句话说，给定当前状态，过去的状态信息对于预测未来状态是无用的。\n",
    "\n",
    "2. 马尔可夫性：未来状态的概率分布只依赖于当前状态，与过去状态的路径无关。换句话说，未来状态的发展只与当前状态有关，与之前的状态序列无关。\n",
    "\n",
    "马尔可夫假设在许多领域中都有广泛的应用，特别是在概率论、统计学、信号处理、自然语言处理以及机器学习等领域。马尔可夫链和隐马尔可夫模型是基于马尔可夫假设的重要工具，用于建模和分析具有马尔可夫性质的随机过程。"
   ]
  }
 ],
 "metadata": {
  "language_info": {
   "name": "python"
  },
  "orig_nbformat": 4
 },
 "nbformat": 4,
 "nbformat_minor": 2
}
