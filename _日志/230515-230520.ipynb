{
 "cells": [
  {
   "attachments": {},
   "cell_type": "markdown",
   "metadata": {},
   "source": [
    "# 0515"
   ]
  },
  {
   "attachments": {},
   "cell_type": "markdown",
   "metadata": {},
   "source": [
    "## 专利检索\n",
    "1 一种基于JavaCV的自有设备网络监控视频的播放方法及系统  \n",
    "2 CN202210754971 一种基于国标GB28181的推流web播放方法和系统  \n",
    "3 CN202211328865 一种视频流推送系统  \n",
    "4 CN202210736186 一种用于无人机的果园果实在线检测与计数方法  "
   ]
  },
  {
   "attachments": {},
   "cell_type": "markdown",
   "metadata": {},
   "source": [
    "## RTC在服务器的测试\n",
    "\n",
    "[meeting-h5](https://gitee.com/nmeeting/meeting-h5/repository/blazearchive/master.zip)  \n",
    "[](https://gitee.com/nmeeting/meeting-server/repository/blazearchive/master.zip?Expires=1681785197&Signature=VoIPmPHnAX3xMbK%2BzV5b8rrEbESgGADCwbiAWZsRTr8%3D)  \n",
    "[](https://gitee.com/nmeeting/ion-sfu/repository/blazearchive/master.zip?Expires=1681785251&Signature=JRyD9XghvWUFhZnqEQeJDXj6X407Vkw0uqp4%2BxnPyoU%3D)"
   ]
  },
  {
   "attachments": {},
   "cell_type": "markdown",
   "metadata": {},
   "source": [
    "## 验证网络延迟模拟工具模拟延迟的机制\n",
    "由于使用clumsy模拟网络延迟时，视频流会出现严重卡顿，经过测试此现象与采集端和推流端无关，因此怀疑该工具对一个视频帧拆分的多个tcp数据报进行延迟时，导致了一个延迟累计问题。所以编写一个程序多次发送tcp数据包并对其进行模拟延迟，抓包观察是否存在延迟累计现象。"
   ]
  },
  {
   "cell_type": "code",
   "execution_count": 2,
   "metadata": {},
   "outputs": [],
   "source": [
    "import socket  \t\t\t \t\t\t\t#导入socket模块\n",
    "import random\n",
    "import datetime\n",
    "\n",
    "def server():\n",
    "    host ='127.0.0.1'\n",
    "    port = 8080\n",
    "    web = socket.socket()\n",
    "    web.bind((host,port))\n",
    "    web.listen(5)\n",
    "    print('waiting for client to connect ...')\n",
    "    conn, addr = web.accept()\n",
    "    while True :\n",
    "        data = conn.recv(1024)\n",
    "        curr_time = datetime.datetime.now()\n",
    "        print(curr_time.second,'\\t',curr_time.microsecond,'server receive\\n' )\n",
    "\n",
    "        msg = input('msg?')\n",
    "        conn.sendall(msg.encode())\n",
    "        curr_time = datetime.datetime.now()\n",
    "        print(curr_time.second,'\\t',curr_time.microsecond,'server send\\n' )\n",
    "\n",
    "        if(msg == 'exit') :\n",
    "            conn.close()\n",
    "            break\n",
    "    print('sever exited')\n",
    "\n",
    "def client() :\n",
    "    s = socket.socket()\t\t\t\t\t\t#创建套接字\n",
    "    host = '127.0.0.1'\t\t\t\t\t\t#IP\n",
    "    port = 8080\t\t\t\t\t\t\t\t#端口\n",
    "    s.connect((host,port))\t\t\t\t\t#主动初始化TCP服务器连接\n",
    "    send_data = str(random.getrandbits(1024*8))  # 生成1024字节数据\n",
    "    while(send_data != 'exit'):\n",
    "        s.send(send_data.encode())\t\t\t\t\t#发送TCP数据\n",
    "        curr_time = datetime.datetime.now()\n",
    "        print(curr_time.second,'\\t',curr_time.microsecond,'client send\\n')\n",
    "\n",
    "         #接受对方发送过来的数据，最大接受1024字节\n",
    "        recvData = s.recv(1024).decode()\n",
    "        curr_time = datetime.datetime.now()\n",
    "        print(curr_time.second,'\\t',curr_time.microsecond,'client receive\\n')\n",
    "\n",
    "        if recvData == 'exit':\n",
    "            break\n",
    "        send_data = str(random.getrandbits(1024*8))\n",
    "    #关闭套接字\n",
    "    s.close()\n",
    "    print(\"client exited\")"
   ]
  },
  {
   "cell_type": "code",
   "execution_count": 4,
   "metadata": {},
   "outputs": [
    {
     "name": "stdout",
     "output_type": "stream",
     "text": [
      "waiting for client to connect ...\n",
      "26 \t 291576 client send\n",
      "\n",
      "26 \t 442623 server receive\n",
      "\n",
      "32 \t 579077 server send\n",
      "\n",
      "32 \t 579940 server receive\n",
      "\n",
      "32 \t 730934 client receive\n",
      "\n",
      "32 \t 731932 client send\n",
      "\n",
      "57 \t 719961 server send\n",
      "\n",
      "57 \t 720963 server receive\n",
      "\n",
      "57 \t 871111 client receive\n",
      "\n",
      "57 \t 873013 client send\n",
      "\n",
      "20 \t 28879 server send\n",
      "\n",
      "sever exited\n",
      "20 \t 180868 client receive\n",
      "\n",
      "client exited\n"
     ]
    }
   ],
   "source": [
    "import threading\n",
    "server_thread = threading.Thread(target=server, args=[])\n",
    "client_thread = threading.Thread(target=client, args=[])\n",
    "server_thread.start()\n",
    "client_thread.start()\n",
    "\n",
    "server_thread.join()\n",
    "client_thread.join()"
   ]
  }
 ],
 "metadata": {
  "kernelspec": {
   "display_name": "Python 3",
   "language": "python",
   "name": "python3"
  },
  "language_info": {
   "codemirror_mode": {
    "name": "ipython",
    "version": 3
   },
   "file_extension": ".py",
   "mimetype": "text/x-python",
   "name": "python",
   "nbconvert_exporter": "python",
   "pygments_lexer": "ipython3",
   "version": "3.10.4"
  },
  "orig_nbformat": 4
 },
 "nbformat": 4,
 "nbformat_minor": 2
}
